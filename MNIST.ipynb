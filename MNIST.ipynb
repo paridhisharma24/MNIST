{
  "nbformat": 4,
  "nbformat_minor": 0,
  "metadata": {
    "colab": {
      "name": "MNIST",
      "provenance": [],
      "collapsed_sections": []
    },
    "kernelspec": {
      "name": "python3",
      "display_name": "Python 3"
    }
  },
  "cells": [
    {
      "cell_type": "code",
      "metadata": {
        "id": "OUAN8WfOvBH6"
      },
      "source": [
        "import tensorflow as tf\n",
        "import numpy as np\n",
        "import matplotlib.pyplot as plt"
      ],
      "execution_count": 38,
      "outputs": []
    },
    {
      "cell_type": "code",
      "metadata": {
        "id": "eVJN-sl5wAzl"
      },
      "source": [
        "mnist = tf.keras.datasets.mnist\n",
        "(X_train, y_train), (X_test, y_test) = mnist.load_data()\n",
        "X_train = X_train / 255.0 \n",
        "X_test = X_test / 255.0"
      ],
      "execution_count": 39,
      "outputs": []
    },
    {
      "cell_type": "code",
      "metadata": {
        "id": "YR392MIzAeC5",
        "outputId": "0be37da7-084e-46ae-c52c-e85ad8fb990b",
        "colab": {
          "base_uri": "https://localhost:8080/",
          "height": 589
        }
      },
      "source": [
        "plt.figure(figsize=(10,10))\n",
        "for i in range(9):\n",
        "  plt.subplot(3, 3, i+1)\n",
        "  plt.xticks([])\n",
        "  plt.yticks([])\n",
        "  plt.grid(False)\n",
        "  plt.imshow(X_train[i])\n",
        "  plt.xlabel(y_train[i])\n",
        "plt.show()"
      ],
      "execution_count": 43,
      "outputs": [
        {
          "output_type": "display_data",
          "data": {
            "image/png": "[encoded data removed]",
            "text/plain": [
              "<Figure size 720x720 with 9 Axes>"
            ]
          },
          "metadata": {
            "tags": []
          }
        }
      ]
    },
    {
      "cell_type": "code",
      "metadata": {
        "id": "gh_QL2LvwYe3"
      },
      "source": [
        "m = tf.keras.models.Sequential([\n",
        "                                tf.keras.layers.Flatten(input_shape = (28,28)),\n",
        "                                tf.keras.layers.Dense(128, activation = 'relu'),\n",
        "                                tf.keras.layers.Dropout(0.2),\n",
        "                                tf.keras.layers.Dense(10)\n",
        "])"
      ],
      "execution_count": null,
      "outputs": []
    },
    {
      "cell_type": "code",
      "metadata": {
        "id": "1IN4fp6q0VLR",
        "outputId": "f24fb551-d6a2-4850-ef69-bdf59a1e1223",
        "colab": {
          "base_uri": "https://localhost:8080/",
          "height": 253
        }
      },
      "source": [
        "p = np.array(m(X_train))\n",
        "p"
      ],
      "execution_count": null,
      "outputs": [
        {
          "output_type": "execute_result",
          "data": {
            "text/plain": [
              "array([[ 0.5394785 , -0.12272212,  0.9193161 , ...,  0.41517732,\n",
              "        -0.3789807 , -0.87227833],\n",
              "       [ 0.17907391, -0.38277358,  0.4775224 , ...,  0.13636303,\n",
              "        -0.23140424, -0.87323546],\n",
              "       [ 0.26232728,  0.12891048,  0.16630177, ...,  0.86517775,\n",
              "        -0.3043212 , -1.0263238 ],\n",
              "       ...,\n",
              "       [ 0.51925176, -0.05907093, -0.04599736, ...,  0.5607646 ,\n",
              "        -0.37938014, -0.36678326],\n",
              "       [ 0.49862832, -0.48441568,  0.15171747, ..., -0.1998389 ,\n",
              "        -0.5524225 , -0.6827275 ],\n",
              "       [ 0.42455885, -0.14414556, -0.11718291, ...,  0.6053975 ,\n",
              "        -0.00829128, -0.39380005]], dtype=float32)"
            ]
          },
          "metadata": {
            "tags": []
          },
          "execution_count": 30
        }
      ]
    },
    {
      "cell_type": "code",
      "metadata": {
        "id": "OUaLStyG0mv-",
        "outputId": "ece90237-d28f-462d-85f3-8702a57358bd",
        "colab": {
          "base_uri": "https://localhost:8080/",
          "height": 253
        }
      },
      "source": [
        "np.array(tf.nn.softmax(p))"
      ],
      "execution_count": null,
      "outputs": [
        {
          "output_type": "execute_result",
          "data": {
            "text/plain": [
              "array([[0.13262345, 0.06839593, 0.19390173, ..., 0.1171216 , 0.05293447,\n",
              "        0.03232229],\n",
              "       [0.10474563, 0.05972121, 0.1411726 , ..., 0.10036603, 0.06948122,\n",
              "        0.0365699 ],\n",
              "       [0.13005838, 0.11381412, 0.11815034, ..., 0.23765828, 0.07379824,\n",
              "        0.0358496 ],\n",
              "       ...,\n",
              "       [0.14238805, 0.07985666, 0.08090753, ..., 0.14842339, 0.05796991,\n",
              "        0.05870477],\n",
              "       [0.14620435, 0.05470534, 0.10334723, ..., 0.0727143 , 0.05110869,\n",
              "        0.04486462],\n",
              "       [0.13139997, 0.07440636, 0.07643985, ..., 0.15744632, 0.08523361,\n",
              "        0.05796776]], dtype=float32)"
            ]
          },
          "metadata": {
            "tags": []
          },
          "execution_count": 31
        }
      ]
    },
    {
      "cell_type": "code",
      "metadata": {
        "id": "uHsJvWd51Jbz",
        "outputId": "cc54625b-11bb-4acd-c7eb-4c9791797b93",
        "colab": {
          "base_uri": "https://localhost:8080/",
          "height": 35
        }
      },
      "source": [
        "loss = tf.keras.losses.SparseCategoricalCrossentropy(from_logits = True)\n",
        "np.array(loss(y_train, p))"
      ],
      "execution_count": null,
      "outputs": [
        {
          "output_type": "execute_result",
          "data": {
            "text/plain": [
              "array(2.4508984, dtype=float32)"
            ]
          },
          "metadata": {
            "tags": []
          },
          "execution_count": 32
        }
      ]
    },
    {
      "cell_type": "code",
      "metadata": {
        "id": "4cMChdrM2DBd"
      },
      "source": [
        "m.compile(optimizer = 'adam', loss = loss, metrics = ['accuracy'])"
      ],
      "execution_count": null,
      "outputs": []
    },
    {
      "cell_type": "code",
      "metadata": {
        "id": "v6Wg5oBz2T31",
        "outputId": "c447587c-c557-4a17-c697-e09ff9c91bac",
        "colab": {
          "base_uri": "https://localhost:8080/",
          "height": 217
        }
      },
      "source": [
        "m.fit(X_train, y_train, epochs = 5)"
      ],
      "execution_count": null,
      "outputs": [
        {
          "output_type": "stream",
          "text": [
            "Epoch 1/5\n",
            "1875/1875 [==============================] - 3s 2ms/step - loss: 0.2941 - accuracy: 0.9148\n",
            "Epoch 2/5\n",
            "1875/1875 [==============================] - 3s 2ms/step - loss: 0.1403 - accuracy: 0.9574\n",
            "Epoch 3/5\n",
            "1875/1875 [==============================] - 3s 2ms/step - loss: 0.1064 - accuracy: 0.9682\n",
            "Epoch 4/5\n",
            "1875/1875 [==============================] - 3s 2ms/step - loss: 0.0864 - accuracy: 0.9739\n",
            "Epoch 5/5\n",
            "1875/1875 [==============================] - 3s 2ms/step - loss: 0.0731 - accuracy: 0.9774\n"
          ],
          "name": "stdout"
        },
        {
          "output_type": "execute_result",
          "data": {
            "text/plain": [
              "<tensorflow.python.keras.callbacks.History at 0x7f8d69ee2c88>"
            ]
          },
          "metadata": {
            "tags": []
          },
          "execution_count": 34
        }
      ]
    },
    {
      "cell_type": "code",
      "metadata": {
        "id": "VNmp1Opi2btG",
        "outputId": "26a01109-f4ca-4c54-c516-94b44ba7e247",
        "colab": {
          "base_uri": "https://localhost:8080/",
          "height": 53
        }
      },
      "source": [
        "m.evaluate(X_test, y_test)"
      ],
      "execution_count": null,
      "outputs": [
        {
          "output_type": "stream",
          "text": [
            "313/313 [==============================] - 0s 915us/step - loss: 0.0799 - accuracy: 0.9741\n"
          ],
          "name": "stdout"
        },
        {
          "output_type": "execute_result",
          "data": {
            "text/plain": [
              "[0.07987066358327866, 0.9740999937057495]"
            ]
          },
          "metadata": {
            "tags": []
          },
          "execution_count": 35
        }
      ]
    },
    {
      "cell_type": "code",
      "metadata": {
        "id": "CPYfl6Yi2v7l"
      },
      "source": [
        "p_m = tf.keras.Sequential([m, tf.keras.layers.Softmax()])"
      ],
      "execution_count": null,
      "outputs": []
    },
    {
      "cell_type": "code",
      "metadata": {
        "id": "iStNdBxL4oNK",
        "outputId": "19ad9772-6db8-4bb6-c791-fd07f0ff9775",
        "colab": {
          "base_uri": "https://localhost:8080/",
          "height": 271
        }
      },
      "source": [
        "p_m(X_test)"
      ],
      "execution_count": null,
      "outputs": [
        {
          "output_type": "execute_result",
          "data": {
            "text/plain": [
              "<tf.Tensor: shape=(10000, 10), dtype=float32, numpy=\n",
              "array([[1.16361232e-08, 5.49730128e-09, 2.06548702e-05, ...,\n",
              "        9.99233603e-01, 2.86834347e-06, 5.76495631e-06],\n",
              "       [1.02534881e-09, 5.80763663e-06, 9.99989986e-01, ...,\n",
              "        7.32267606e-15, 1.70191528e-09, 6.29196605e-14],\n",
              "       [3.01397591e-07, 9.97892439e-01, 1.03699742e-03, ...,\n",
              "        6.57668745e-04, 1.38153089e-04, 5.09474773e-07],\n",
              "       ...,\n",
              "       [1.08263216e-11, 2.87974297e-11, 7.30576444e-09, ...,\n",
              "        6.03994692e-07, 6.13179850e-07, 4.72833108e-06],\n",
              "       [6.71746463e-08, 1.83820834e-08, 4.13651696e-10, ...,\n",
              "        1.43745345e-08, 2.42263977e-05, 2.46022841e-10],\n",
              "       [1.21420456e-08, 2.66348228e-12, 2.37714190e-07, ...,\n",
              "        1.12101402e-13, 1.17821020e-09, 2.49080739e-11]], dtype=float32)>"
            ]
          },
          "metadata": {
            "tags": []
          },
          "execution_count": 37
        }
      ]
    },
    {
      "cell_type": "code",
      "metadata": {
        "id": "rnVU8V2x4vVU"
      },
      "source": [
        ""
      ],
      "execution_count": null,
      "outputs": []
    }
  ]
}