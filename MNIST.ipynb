{
 "cells": [
  {
   "cell_type": "code",
   "execution_count": 43,
   "metadata": {},
   "outputs": [],
   "source": [
    "import torch\n",
    "from torchvision import transforms, datasets\n",
    "import matplotlib.pyplot as plt\n",
    "import numpy as np\n",
    "from torch import nn\n",
    "import torch.nn.functional as F\n",
    "from torch import optim\n",
    "\n",
    "%matplotlib inline\n",
    "\n",
    "transform = transforms.Compose([transforms.ToTensor(), transforms.Normalize((0.5,), (0.5,)), ])\n",
    "\n",
    "trainset = datasets.MNIST('~/.pytorch/MNIST_data/', download = False, train = True, transform = transform)\n",
    "trainloader = torch.utils.data.DataLoader(trainset, batch_size = 64, shuffle = True)\n",
    "\n",
    "testset = datasets.MNIST('~/.pytorch/MNIST_data/', download = False, train = False, transform = transform)\n",
    "testloader = torch.utils.data.DataLoader(testset, batch_size = 64, shuffle = True )"
   ]
  },
  {
   "cell_type": "code",
   "execution_count": 45,
   "metadata": {},
   "outputs": [
    {
     "name": "stderr",
     "output_type": "stream",
     "text": [
      "C:\\Users\\parid\\Anaconda3\\lib\\site-packages\\ipykernel_launcher.py:3: DeprecationWarning: This function is deprecated. Please call randint(1, 60 + 1) instead\n",
      "  This is separate from the ipykernel package so we can avoid doing imports until\n"
     ]
    },
    {
     "data": {
      "image/png": "[encoded data removed]",
      "text/plain": [
       "<Figure size 1800x288 with 10 Axes>"
      ]
     },
     "metadata": {
      "needs_background": "light"
     },
     "output_type": "display_data"
    }
   ],
   "source": [
    "images, labels = next(iter(trainloader))\n",
    "images = images.numpy()\n",
    "i = np.random.random_integers(1,60,10)\n",
    "\n",
    "fig, axes = plt.subplots(nrows=1, ncols=10, sharex=True, sharey=True, figsize=(25,4))\n",
    "\n",
    "for k,ax in zip(i,axes):\n",
    "    ax.imshow(np.squeeze(images[k]), cmap = 'gray')"
   ]
  },
  {
   "cell_type": "code",
   "execution_count": 46,
   "metadata": {},
   "outputs": [],
   "source": [
    "class Classifier(nn.Module):\n",
    "    def __init__(self):\n",
    "        super().__init__()\n",
    "        self.fc1 = nn.Linear(784, 128)\n",
    "        self.fc2 = nn.Linear(128, 64)\n",
    "        self.fc3 = nn.Linear(64, 10)\n",
    "               \n",
    "    def forward(self, x):\n",
    "        # make sure input tensor is flattened\n",
    "        x = x.view(x.shape[0], -1)\n",
    "        \n",
    "        x = (F.relu(self.fc1(x)))\n",
    "        x = (F.relu(self.fc2(x)))\n",
    "        x = F.log_softmax(self.fc3(x), dim=1)\n",
    "        \n",
    "        return x\n",
    "    \n",
    "model = Classifier()"
   ]
  },
  {
   "cell_type": "code",
   "execution_count": 47,
   "metadata": {},
   "outputs": [],
   "source": [
    "optimizer = optim.SGD(model.parameters(), lr = 0.01)\n",
    "criterion = nn.NLLLoss()"
   ]
  },
  {
   "cell_type": "code",
   "execution_count": 48,
   "metadata": {
    "scrolled": true
   },
   "outputs": [
    {
     "name": "stdout",
     "output_type": "stream",
     "text": [
      "epoch 1: 1.1110389479982066\n",
      "epoch 2: 0.3948610279955335\n",
      "epoch 3: 0.3301697021830819\n",
      "epoch 4: 0.29923708752782613\n",
      "epoch 5: 0.27455903641355317\n",
      "epoch 6: 0.2528719995210547\n",
      "epoch 7: 0.2330108492422714\n",
      "epoch 8: 0.21529108036095018\n",
      "epoch 9: 0.19846464278124798\n",
      "epoch 10: 0.18342108440313384\n",
      "epoch 11: 0.16973964616989912\n",
      "epoch 12: 0.1586958738738921\n",
      "epoch 13: 0.14835467867092536\n",
      "epoch 14: 0.13923770974257163\n",
      "epoch 15: 0.13113467546025\n",
      "epoch 16: 0.12371473729427752\n",
      "epoch 17: 0.11684638053091413\n",
      "epoch 18: 0.11107409422073378\n",
      "epoch 19: 0.10518749710271703\n",
      "epoch 20: 0.09994652012942919\n"
     ]
    }
   ],
   "source": [
    "#images = images.view(images.shape[0], -1)\n",
    "\n",
    "epochs = 20\n",
    "for e in range(epochs):\n",
    "    LearningLoss = 0\n",
    "    i = 0\n",
    "    for images, labels in trainloader:\n",
    "        #images = images.view(images.shape[0], -1)\n",
    "        \n",
    "        logits = model(images)\n",
    "        loss = criterion(logits, labels)\n",
    "        \n",
    "        optimizer.zero_grad()\n",
    "        loss.backward()\n",
    "        optimizer.step()\n",
    "\n",
    "        LearningLoss += loss.item()\n",
    "    else:\n",
    "        print(f\"epoch {e+1}: {LearningLoss/ len(trainloader)}\")"
   ]
  },
  {
   "cell_type": "code",
   "execution_count": 65,
   "metadata": {},
   "outputs": [
    {
     "name": "stdout",
     "output_type": "stream",
     "text": [
      "Accuracy: 96.48%\n"
     ]
    }
   ],
   "source": [
    "images, labels = next(iter(testloader))\n",
    "L = 0\n",
    "for images, labels in testloader:\n",
    "    with torch.no_grad():\n",
    "        logits = model(images)\n",
    "    p = torch.argmax(torch.exp(logits), dim = 1)\n",
    "    a.append(p)\n",
    "    for i in range(len(p)):\n",
    "        if(p[i] == labels[i]):\n",
    "            L += 1\n",
    "            \n",
    "print(f\"Accuracy: {L * 100/len(testloader.dataset)}%\")"
   ]
  },
  {
   "cell_type": "code",
   "execution_count": 64,
   "metadata": {},
   "outputs": [
    {
     "name": "stderr",
     "output_type": "stream",
     "text": [
      "C:\\Users\\parid\\Anaconda3\\lib\\site-packages\\ipykernel_launcher.py:1: DeprecationWarning: This function is deprecated. Please call randint(1, 61 + 1) instead\n",
      "  \"\"\"Entry point for launching an IPython kernel.\n"
     ]
    },
    {
     "data": {
      "image/png": "[encoded data removed]",
      "text/plain": [
       "<Figure size 1800x288 with 7 Axes>"
      ]
     },
     "metadata": {
      "needs_background": "light"
     },
     "output_type": "display_data"
    }
   ],
   "source": [
    "i = np.random.random_integers(1,61,7)\n",
    "a = []\n",
    "\n",
    "images, labels = next(iter(testloader))\n",
    "for x in i:\n",
    "    with torch.no_grad():\n",
    "        logits = model(images[x])\n",
    "    p = torch.argmax(torch.exp(logits), dim = 1)\n",
    "    a.append(int(p))\n",
    "    \n",
    "fig, axes = plt.subplots(nrows=1, ncols=7, sharex=True, sharey=True, figsize=(25,4))\n",
    "t = 0\n",
    "for k,ax in zip(i,axes):\n",
    "    ax.imshow(np.squeeze(images[k]), cmap = 'gray')\n",
    "    #s = 'Predicted label: ' + a[0][k]\n",
    "    ax.set_title(f\"Predicted label: {a[t]}\")\n",
    "    t += 1"
   ]
  },
  {
   "cell_type": "code",
   "execution_count": null,
   "metadata": {},
   "outputs": [],
   "source": []
  }
 ],
 "metadata": {
  "kernelspec": {
   "display_name": "Python 3",
   "language": "python",
   "name": "python3"
  },
  "language_info": {
   "codemirror_mode": {
    "name": "ipython",
    "version": 3
   },
   "file_extension": ".py",
   "mimetype": "text/x-python",
   "name": "python",
   "nbconvert_exporter": "python",
   "pygments_lexer": "ipython3",
   "version": "3.7.6"
  }
 },
 "nbformat": 4,
 "nbformat_minor": 4
}
